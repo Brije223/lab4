{
 "cells": [
  {
   "cell_type": "code",
   "execution_count": 403,
   "metadata": {},
   "outputs": [],
   "source": [
    "import pandas as pd\n",
    "import numpy as np\n",
    "import matplotlib.pyplot as plt\n",
    "import seaborn as sns"
   ]
  },
  {
   "cell_type": "markdown",
   "metadata": {},
   "source": [
    "**Reading data.** "
   ]
  },
  {
   "cell_type": "code",
   "execution_count": 404,
   "metadata": {},
   "outputs": [],
   "source": [
    "df = pd.read_csv(\"jester-data-1.csv\", header = None)"
   ]
  },
  {
   "cell_type": "code",
   "execution_count": 405,
   "metadata": {},
   "outputs": [
    {
     "data": {
      "text/plain": [
       "(24983, 101)"
      ]
     },
     "execution_count": 405,
     "metadata": {},
     "output_type": "execute_result"
    }
   ],
   "source": [
    "df.shape"
   ]
  },
  {
   "cell_type": "markdown",
   "metadata": {},
   "source": [
    "**Checking missing values.** "
   ]
  },
  {
   "cell_type": "code",
   "execution_count": 406,
   "metadata": {},
   "outputs": [],
   "source": [
    "# as provided in data description we know that Ratings are real values ranging from -10.00 to +10.00 (the value \"99\" corresponds to \"null\" = \"not rated\").\n"
   ]
  },
  {
   "cell_type": "code",
   "execution_count": 407,
   "metadata": {},
   "outputs": [],
   "source": [
    "number_of_user_ratings = df[0]"
   ]
  },
  {
   "cell_type": "code",
   "execution_count": 408,
   "metadata": {
    "scrolled": false
   },
   "outputs": [],
   "source": [
    "df = df[range(1, 101)].replace(99, np.nan)"
   ]
  },
  {
   "cell_type": "code",
   "execution_count": 409,
   "metadata": {},
   "outputs": [],
   "source": [
    "df[0] = number_of_user_ratings"
   ]
  },
  {
   "cell_type": "code",
   "execution_count": 410,
   "metadata": {},
   "outputs": [
    {
     "data": {
      "text/plain": [
       "27.532522115038226"
      ]
     },
     "execution_count": 410,
     "metadata": {},
     "output_type": "execute_result"
    }
   ],
   "source": [
    "df.isnull().sum().sum() / df.shape[0]"
   ]
  },
  {
   "cell_type": "code",
   "execution_count": null,
   "metadata": {},
   "outputs": [],
   "source": []
  },
  {
   "cell_type": "markdown",
   "metadata": {},
   "source": [
    "**Dropping duration column.** "
   ]
  },
  {
   "cell_type": "code",
   "execution_count": 411,
   "metadata": {},
   "outputs": [],
   "source": [
    "# according to description this column doesn't contains the ratings\n",
    "df.drop(0, axis = 1, inplace=True)"
   ]
  },
  {
   "cell_type": "code",
   "execution_count": null,
   "metadata": {},
   "outputs": [],
   "source": []
  },
  {
   "cell_type": "markdown",
   "metadata": {},
   "source": [
    "**Total number of best and worst jokes using pandas.** "
   ]
  },
  {
   "cell_type": "code",
   "execution_count": 412,
   "metadata": {},
   "outputs": [],
   "source": [
    "finding_best_rated_jokes = pd.DataFrame([{x: df[df[x] > 0].shape[0] for x in df.columns}]).T"
   ]
  },
  {
   "cell_type": "code",
   "execution_count": 413,
   "metadata": {},
   "outputs": [
    {
     "data": {
      "text/html": [
       "<div>\n",
       "<style scoped>\n",
       "    .dataframe tbody tr th:only-of-type {\n",
       "        vertical-align: middle;\n",
       "    }\n",
       "\n",
       "    .dataframe tbody tr th {\n",
       "        vertical-align: top;\n",
       "    }\n",
       "\n",
       "    .dataframe thead th {\n",
       "        text-align: right;\n",
       "    }\n",
       "</style>\n",
       "<table border=\"1\" class=\"dataframe\">\n",
       "  <thead>\n",
       "    <tr style=\"text-align: right;\">\n",
       "      <th></th>\n",
       "      <th>0</th>\n",
       "    </tr>\n",
       "  </thead>\n",
       "  <tbody>\n",
       "    <tr>\n",
       "      <th>74</th>\n",
       "      <td>3290</td>\n",
       "    </tr>\n",
       "    <tr>\n",
       "      <th>58</th>\n",
       "      <td>3504</td>\n",
       "    </tr>\n",
       "    <tr>\n",
       "      <th>71</th>\n",
       "      <td>3907</td>\n",
       "    </tr>\n",
       "    <tr>\n",
       "      <th>75</th>\n",
       "      <td>4343</td>\n",
       "    </tr>\n",
       "    <tr>\n",
       "      <th>79</th>\n",
       "      <td>4715</td>\n",
       "    </tr>\n",
       "    <tr>\n",
       "      <th>86</th>\n",
       "      <td>5088</td>\n",
       "    </tr>\n",
       "    <tr>\n",
       "      <th>77</th>\n",
       "      <td>5093</td>\n",
       "    </tr>\n",
       "    <tr>\n",
       "      <th>73</th>\n",
       "      <td>5207</td>\n",
       "    </tr>\n",
       "    <tr>\n",
       "      <th>84</th>\n",
       "      <td>5355</td>\n",
       "    </tr>\n",
       "    <tr>\n",
       "      <th>80</th>\n",
       "      <td>5439</td>\n",
       "    </tr>\n",
       "  </tbody>\n",
       "</table>\n",
       "</div>"
      ],
      "text/plain": [
       "       0\n",
       "74  3290\n",
       "58  3504\n",
       "71  3907\n",
       "75  4343\n",
       "79  4715\n",
       "86  5088\n",
       "77  5093\n",
       "73  5207\n",
       "84  5355\n",
       "80  5439"
      ]
     },
     "execution_count": 413,
     "metadata": {},
     "output_type": "execute_result"
    }
   ],
   "source": [
    "finding_best_rated_jokes.sort_values(0, ascending=True).iloc[:10]"
   ]
  },
  {
   "cell_type": "code",
   "execution_count": 415,
   "metadata": {},
   "outputs": [
    {
     "data": {
      "text/plain": [
       "nan"
      ]
     },
     "execution_count": 415,
     "metadata": {},
     "output_type": "execute_result"
    }
   ],
   "source": [
    "df[95][3884]"
   ]
  },
  {
   "cell_type": "code",
   "execution_count": 416,
   "metadata": {},
   "outputs": [],
   "source": [
    "# From above are best jokes top-10"
   ]
  },
  {
   "cell_type": "markdown",
   "metadata": {},
   "source": [
    "**Getting train, test and validation set** "
   ]
  },
  {
   "cell_type": "code",
   "execution_count": 417,
   "metadata": {},
   "outputs": [],
   "source": [
    "test_data = df[df.isnull().any(axis=1)]"
   ]
  },
  {
   "cell_type": "code",
   "execution_count": 418,
   "metadata": {},
   "outputs": [],
   "source": [
    "validation_data = df.dropna().iloc[:int(df.dropna().shape[0] * 0.20)]"
   ]
  },
  {
   "cell_type": "code",
   "execution_count": 419,
   "metadata": {},
   "outputs": [],
   "source": [
    "df_ =  df.dropna().iloc[int(df.dropna().shape[0] * 0.20):]"
   ]
  },
  {
   "cell_type": "code",
   "execution_count": null,
   "metadata": {},
   "outputs": [],
   "source": []
  },
  {
   "cell_type": "markdown",
   "metadata": {},
   "source": [
    "**Training** "
   ]
  },
  {
   "cell_type": "code",
   "execution_count": 440,
   "metadata": {},
   "outputs": [],
   "source": [
    "n_latent_factors = 12\n",
    "\n",
    "user_ratings = df.values\n",
    "# Initialise as random values\n",
    "latent_user_preferences = np.random.random((user_ratings.shape[0], n_latent_factors))\n",
    "latent_item_features = np.random.random((user_ratings.shape[1], n_latent_factors))"
   ]
  },
  {
   "cell_type": "code",
   "execution_count": null,
   "metadata": {},
   "outputs": [],
   "source": []
  },
  {
   "cell_type": "code",
   "execution_count": 428,
   "metadata": {},
   "outputs": [],
   "source": [
    "n_latent_factors = 2\n",
    "\n",
    "user_ratings = df_.values\n",
    "# Initialise as random values\n",
    "latent_user_preferences = np.random.random((user_ratings.shape[0], n_latent_factors))\n",
    "latent_item_features = np.random.random((user_ratings.shape[1], n_latent_factors))"
   ]
  },
  {
   "cell_type": "code",
   "execution_count": null,
   "metadata": {},
   "outputs": [],
   "source": []
  },
  {
   "cell_type": "code",
   "execution_count": 340,
   "metadata": {},
   "outputs": [],
   "source": [
    "def predict_rating(user_id, item_id):\n",
    "    \"\"\" Predict a rating given a user_id and an item_id.\n",
    "    \"\"\"\n",
    "    user_preference = latent_user_preferences[user_id]\n",
    "    item_preference = latent_item_features[item_id]\n",
    "    return user_preference.dot(item_preference)\n",
    "\n",
    "\n",
    "def train(user_id, item_id, rating, alpha=0.0001):\n",
    "    #print(item_id)\n",
    "    predicted_rating = predict_rating(user_id, item_id)\n",
    "    err =  predicted_rating - rating\n",
    "    #print(err)\n",
    "    user_pref_values = latent_user_preferences[user_id]\n",
    "    latent_user_preferences[user_id] -= alpha * err * latent_item_features[item_id]\n",
    "    latent_item_features[item_id] -= alpha * err * user_pref_values\n",
    "    return err\n",
    "    \n",
    "\n",
    "def sgd(iterations):\n",
    "    \"\"\" Iterate over all users and all items and train for \n",
    "        a certain number of iterations\n",
    "    \"\"\"\n",
    "    mse_history = []\n",
    "    for iteration in range(iterations):\n",
    "        error = []\n",
    "        for user_id in range(latent_user_preferences.shape[0]):\n",
    "            for item_id in range(latent_item_features.shape[0]):\n",
    "                rating = user_ratings[user_id, item_id]\n",
    "                if not np.isnan(rating):\n",
    "                    err = train(user_id, item_id, rating)\n",
    "                    error.append(err)\n",
    "        mse = (np.array(error) ** 2).mean()   \n",
    "        if (iteration % 10000) == 0:\n",
    "            print('Iteration %d/%d:\\tMSE=%.6f' % (iteration, iterations, mse))\n",
    "            mse_history.append(mse)\n",
    "    return mse_history"
   ]
  },
  {
   "cell_type": "code",
   "execution_count": 341,
   "metadata": {},
   "outputs": [
    {
     "name": "stdout",
     "output_type": "stream",
     "text": [
      "Iteration 0/5:\tMSE=26.774039\n"
     ]
    }
   ],
   "source": [
    "num_iter = 5\n",
    "hist = sgd(num_iter)  # Note how the MSE decreases with the number of iterations"
   ]
  },
  {
   "cell_type": "code",
   "execution_count": 342,
   "metadata": {},
   "outputs": [
    {
     "data": {
      "text/plain": [
       "(1440, 100)"
      ]
     },
     "execution_count": 342,
     "metadata": {},
     "output_type": "execute_result"
    }
   ],
   "source": [
    "validation_data.shape"
   ]
  },
  {
   "cell_type": "markdown",
   "metadata": {},
   "source": [
    "**Calculating mse for validation set** "
   ]
  },
  {
   "cell_type": "code",
   "execution_count": 343,
   "metadata": {},
   "outputs": [],
   "source": [
    "error = []\n",
    "for user_id in validation_data.index:\n",
    "    for item_id in range(validation_data.shape[1]):\n",
    "        rating = user_ratings[user_id, item_id]\n",
    "        if not np.isnan(rating):\n",
    "            predicted_rating = predict_rating(user_id, item_id)\n",
    "            err =  predicted_rating - rating\n",
    "            error.append(err)"
   ]
  },
  {
   "cell_type": "code",
   "execution_count": 344,
   "metadata": {},
   "outputs": [],
   "source": [
    "mse = (np.array(error) ** 2).mean()   "
   ]
  },
  {
   "cell_type": "code",
   "execution_count": 481,
   "metadata": {},
   "outputs": [
    {
     "data": {
      "text/plain": [
       "23.711697056362453"
      ]
     },
     "execution_count": 481,
     "metadata": {},
     "output_type": "execute_result"
    }
   ],
   "source": [
    "mse"
   ]
  },
  {
   "cell_type": "markdown",
   "metadata": {},
   "source": [
    "**Getting prediction for test set** "
   ]
  },
  {
   "cell_type": "code",
   "execution_count": 476,
   "metadata": {},
   "outputs": [],
   "source": [
    "latent_user_preferences_test = np.random.random((test_data.shape[0], n_latent_factors))\n",
    "latent_item_features_test = np.random.random((test_data.shape[1], n_latent_factors))"
   ]
  },
  {
   "cell_type": "code",
   "execution_count": 477,
   "metadata": {},
   "outputs": [
    {
     "data": {
      "text/plain": [
       "array([[3.97208155, 2.89785495, 3.34519859, ..., 3.17171666, 3.10653541,\n",
       "        2.85064022],\n",
       "       [4.26773193, 2.93315288, 3.56060188, ..., 2.78452089, 2.92609719,\n",
       "        2.37742195],\n",
       "       [3.4524392 , 3.13627038, 3.67852572, ..., 3.03622653, 3.54800912,\n",
       "        3.04389289],\n",
       "       ...,\n",
       "       [3.55201386, 3.22130086, 3.37561295, ..., 3.32815742, 3.65200498,\n",
       "        2.92732871],\n",
       "       [4.00943293, 2.49203718, 2.8445397 , ..., 2.66441896, 2.26682102,\n",
       "        2.38543605],\n",
       "       [4.29930357, 2.86183994, 3.79706205, ..., 3.37155174, 3.62412604,\n",
       "        2.74033903]])"
      ]
     },
     "execution_count": 477,
     "metadata": {},
     "output_type": "execute_result"
    }
   ],
   "source": [
    "predictions = latent_user_preferences_test.dot(latent_item_features_test.T)\n",
    "predictions"
   ]
  },
  {
   "cell_type": "code",
   "execution_count": 478,
   "metadata": {},
   "outputs": [
    {
     "data": {
      "text/plain": [
       "(17783, 100)"
      ]
     },
     "execution_count": 478,
     "metadata": {},
     "output_type": "execute_result"
    }
   ],
   "source": [
    "test_data.shape"
   ]
  },
  {
   "cell_type": "code",
   "execution_count": 479,
   "metadata": {},
   "outputs": [],
   "source": [
    "values = [zip(test_data.values[i], predictions[i]) for i in range(predictions.shape[0])]\n",
    "comparison_data = pd.DataFrame(values)\n",
    "comparison_data.columns = test_data.columns"
   ]
  },
  {
   "cell_type": "code",
   "execution_count": 480,
   "metadata": {},
   "outputs": [
    {
     "data": {
      "text/html": [
       "<div>\n",
       "<style scoped>\n",
       "    .dataframe tbody tr th:only-of-type {\n",
       "        vertical-align: middle;\n",
       "    }\n",
       "\n",
       "    .dataframe tbody tr th {\n",
       "        vertical-align: top;\n",
       "    }\n",
       "\n",
       "    .dataframe thead th {\n",
       "        text-align: right;\n",
       "    }\n",
       "</style>\n",
       "<table border=\"1\" class=\"dataframe\">\n",
       "  <thead>\n",
       "    <tr style=\"text-align: right;\">\n",
       "      <th></th>\n",
       "      <th>1</th>\n",
       "      <th>2</th>\n",
       "      <th>3</th>\n",
       "      <th>4</th>\n",
       "      <th>5</th>\n",
       "      <th>6</th>\n",
       "      <th>7</th>\n",
       "      <th>8</th>\n",
       "      <th>9</th>\n",
       "      <th>10</th>\n",
       "      <th>...</th>\n",
       "      <th>91</th>\n",
       "      <th>92</th>\n",
       "      <th>93</th>\n",
       "      <th>94</th>\n",
       "      <th>95</th>\n",
       "      <th>96</th>\n",
       "      <th>97</th>\n",
       "      <th>98</th>\n",
       "      <th>99</th>\n",
       "      <th>100</th>\n",
       "    </tr>\n",
       "  </thead>\n",
       "  <tbody>\n",
       "    <tr>\n",
       "      <th>0</th>\n",
       "      <td>(-7.82, 3.9720815503913824)</td>\n",
       "      <td>(8.79, 2.8978549527682245)</td>\n",
       "      <td>(-9.66, 3.345198587536779)</td>\n",
       "      <td>(-8.16, 3.590587629169965)</td>\n",
       "      <td>(-7.52, 3.0188449409167917)</td>\n",
       "      <td>(-8.5, 3.517031509543339)</td>\n",
       "      <td>(-9.85, 2.310483483877972)</td>\n",
       "      <td>(4.17, 3.081748679125996)</td>\n",
       "      <td>(-8.98, 2.6968006276678707)</td>\n",
       "      <td>(-4.76, 3.0093927738499913)</td>\n",
       "      <td>...</td>\n",
       "      <td>(2.82, 2.53475698654882)</td>\n",
       "      <td>(nan, 3.7219607188192665)</td>\n",
       "      <td>(nan, 3.521688261188994)</td>\n",
       "      <td>(nan, 3.5896631823887746)</td>\n",
       "      <td>(nan, 1.9085887821997192)</td>\n",
       "      <td>(nan, 2.2385185540495796)</td>\n",
       "      <td>(-5.63, 4.472758013364635)</td>\n",
       "      <td>(nan, 3.171716659117797)</td>\n",
       "      <td>(nan, 3.106535414139134)</td>\n",
       "      <td>(nan, 2.850640216878193)</td>\n",
       "    </tr>\n",
       "    <tr>\n",
       "      <th>1</th>\n",
       "      <td>(nan, 4.267731926087249)</td>\n",
       "      <td>(nan, 2.933152882309649)</td>\n",
       "      <td>(nan, 3.560601881264577)</td>\n",
       "      <td>(nan, 3.943770416077405)</td>\n",
       "      <td>(9.03, 2.973147530792298)</td>\n",
       "      <td>(9.27, 3.0843741060056233)</td>\n",
       "      <td>(9.03, 2.590439159086898)</td>\n",
       "      <td>(9.27, 3.323204777100451)</td>\n",
       "      <td>(nan, 2.6347772138289365)</td>\n",
       "      <td>(nan, 2.959260301614482)</td>\n",
       "      <td>...</td>\n",
       "      <td>(nan, 2.9085807416979805)</td>\n",
       "      <td>(nan, 3.5940298603179004)</td>\n",
       "      <td>(nan, 3.8501486418483784)</td>\n",
       "      <td>(9.08, 3.300192969169696)</td>\n",
       "      <td>(nan, 1.9345375558643394)</td>\n",
       "      <td>(nan, 2.4263009237457167)</td>\n",
       "      <td>(nan, 5.033129425223906)</td>\n",
       "      <td>(nan, 2.7845208867368485)</td>\n",
       "      <td>(nan, 2.9260971940300573)</td>\n",
       "      <td>(nan, 2.377421947782539)</td>\n",
       "    </tr>\n",
       "    <tr>\n",
       "      <th>2</th>\n",
       "      <td>(nan, 3.452439198492598)</td>\n",
       "      <td>(8.35, 3.136270383889947)</td>\n",
       "      <td>(nan, 3.678525715236008)</td>\n",
       "      <td>(nan, 3.7276655550307067)</td>\n",
       "      <td>(1.8, 3.275476001382596)</td>\n",
       "      <td>(8.16, 4.003054748529952)</td>\n",
       "      <td>(-2.82, 2.6316126149740984)</td>\n",
       "      <td>(6.21, 2.8819134161188593)</td>\n",
       "      <td>(nan, 2.581905231419659)</td>\n",
       "      <td>(1.84, 2.999018676341429)</td>\n",
       "      <td>...</td>\n",
       "      <td>(nan, 2.238884351075046)</td>\n",
       "      <td>(nan, 3.1236980668651384)</td>\n",
       "      <td>(nan, 3.4489033739822195)</td>\n",
       "      <td>(0.53, 3.154429923721124)</td>\n",
       "      <td>(nan, 2.2353705459306594)</td>\n",
       "      <td>(nan, 2.3758362649441027)</td>\n",
       "      <td>(nan, 4.6497978645517)</td>\n",
       "      <td>(nan, 3.0362265251052487)</td>\n",
       "      <td>(nan, 3.548009118287445)</td>\n",
       "      <td>(nan, 3.043892890646703)</td>\n",
       "    </tr>\n",
       "    <tr>\n",
       "      <th>3</th>\n",
       "      <td>(8.5, 3.055762207857918)</td>\n",
       "      <td>(4.61, 1.7499081579531228)</td>\n",
       "      <td>(-4.17, 2.7704036468965434)</td>\n",
       "      <td>(-5.39, 2.7548906509323863)</td>\n",
       "      <td>(1.36, 2.2050470829085254)</td>\n",
       "      <td>(1.6, 2.4840917673833904)</td>\n",
       "      <td>(7.04, 1.961874225738842)</td>\n",
       "      <td>(4.61, 2.505459117497918)</td>\n",
       "      <td>(-0.44, 2.076600258371243)</td>\n",
       "      <td>(5.73, 2.428746792074193)</td>\n",
       "      <td>...</td>\n",
       "      <td>(5.19, 2.0692042671201065)</td>\n",
       "      <td>(5.58, 2.417904303220456)</td>\n",
       "      <td>(4.27, 2.7333386350528737)</td>\n",
       "      <td>(5.19, 2.3764305613658268)</td>\n",
       "      <td>(5.73, 1.585325101809795)</td>\n",
       "      <td>(1.55, 2.0243497211574617)</td>\n",
       "      <td>(3.11, 4.075322119901159)</td>\n",
       "      <td>(6.55, 2.3769949033759654)</td>\n",
       "      <td>(1.8, 2.4701556478454867)</td>\n",
       "      <td>(1.6, 2.293988422460752)</td>\n",
       "    </tr>\n",
       "    <tr>\n",
       "      <th>4</th>\n",
       "      <td>(nan, 2.486414980833757)</td>\n",
       "      <td>(nan, 2.4291438183636394)</td>\n",
       "      <td>(nan, 2.0406195669553724)</td>\n",
       "      <td>(nan, 2.471214880834291)</td>\n",
       "      <td>(8.59, 1.6633374880264116)</td>\n",
       "      <td>(-9.85, 1.714999564888002)</td>\n",
       "      <td>(7.72, 1.5609769453925144)</td>\n",
       "      <td>(8.79, 2.48655122847654)</td>\n",
       "      <td>(nan, 1.3970465344376084)</td>\n",
       "      <td>(nan, 1.5466770329089548)</td>\n",
       "      <td>...</td>\n",
       "      <td>(nan, 1.5764251737770583)</td>\n",
       "      <td>(nan, 2.213146174635104)</td>\n",
       "      <td>(nan, 2.4814369478422003)</td>\n",
       "      <td>(nan, 2.416111041108622)</td>\n",
       "      <td>(nan, 0.9644516206816417)</td>\n",
       "      <td>(2.33, 1.8930170713370138)</td>\n",
       "      <td>(nan, 3.028774740529995)</td>\n",
       "      <td>(nan, 1.8287723003422247)</td>\n",
       "      <td>(nan, 1.6957745996799949)</td>\n",
       "      <td>(nan, 1.4527062426779815)</td>\n",
       "    </tr>\n",
       "    <tr>\n",
       "      <th>...</th>\n",
       "      <td>...</td>\n",
       "      <td>...</td>\n",
       "      <td>...</td>\n",
       "      <td>...</td>\n",
       "      <td>...</td>\n",
       "      <td>...</td>\n",
       "      <td>...</td>\n",
       "      <td>...</td>\n",
       "      <td>...</td>\n",
       "      <td>...</td>\n",
       "      <td>...</td>\n",
       "      <td>...</td>\n",
       "      <td>...</td>\n",
       "      <td>...</td>\n",
       "      <td>...</td>\n",
       "      <td>...</td>\n",
       "      <td>...</td>\n",
       "      <td>...</td>\n",
       "      <td>...</td>\n",
       "      <td>...</td>\n",
       "      <td>...</td>\n",
       "    </tr>\n",
       "    <tr>\n",
       "      <th>17778</th>\n",
       "      <td>(nan, 4.253231645713874)</td>\n",
       "      <td>(nan, 3.2868156024788107)</td>\n",
       "      <td>(nan, 3.896236168198102)</td>\n",
       "      <td>(nan, 3.928994597330417)</td>\n",
       "      <td>(7.67, 2.5695515464779053)</td>\n",
       "      <td>(nan, 3.613275216294128)</td>\n",
       "      <td>(1.02, 2.6541756459384542)</td>\n",
       "      <td>(-3.74, 3.814125780534466)</td>\n",
       "      <td>(nan, 2.7898593016177595)</td>\n",
       "      <td>(nan, 2.9889648079730864)</td>\n",
       "      <td>...</td>\n",
       "      <td>(nan, 2.9198993803285815)</td>\n",
       "      <td>(nan, 3.371078988892632)</td>\n",
       "      <td>(nan, 3.879600545548267)</td>\n",
       "      <td>(nan, 3.191165558835543)</td>\n",
       "      <td>(nan, 2.343131474065769)</td>\n",
       "      <td>(nan, 2.821718982454611)</td>\n",
       "      <td>(nan, 5.263888429339908)</td>\n",
       "      <td>(nan, 3.2545961718247156)</td>\n",
       "      <td>(nan, 3.2349694015526995)</td>\n",
       "      <td>(nan, 2.546507312952199)</td>\n",
       "    </tr>\n",
       "    <tr>\n",
       "      <th>17779</th>\n",
       "      <td>(9.13, 3.534350694090974)</td>\n",
       "      <td>(-8.16, 3.227393342340868)</td>\n",
       "      <td>(8.59, 3.4657961468700287)</td>\n",
       "      <td>(9.08, 4.463647198033294)</td>\n",
       "      <td>(0.87, 3.2897840473168256)</td>\n",
       "      <td>(-8.93, 3.8580349909441245)</td>\n",
       "      <td>(-3.5, 3.1222038449292286)</td>\n",
       "      <td>(5.78, 3.4689152546848785)</td>\n",
       "      <td>(-8.11, 2.7519461446381634)</td>\n",
       "      <td>(4.9, 2.725965601699293)</td>\n",
       "      <td>...</td>\n",
       "      <td>(-1.17, 2.604338805203881)</td>\n",
       "      <td>(-5.73, 3.304119384171563)</td>\n",
       "      <td>(-1.46, 3.2889675626185246)</td>\n",
       "      <td>(0.24, 3.337223944672344)</td>\n",
       "      <td>(9.22, 1.9239012411037413)</td>\n",
       "      <td>(-8.2, 2.6042700050369976)</td>\n",
       "      <td>(-7.23, 4.634679422622741)</td>\n",
       "      <td>(-8.59, 3.6864999702707943)</td>\n",
       "      <td>(9.13, 3.7036245312554628)</td>\n",
       "      <td>(8.45, 2.6449928670518643)</td>\n",
       "    </tr>\n",
       "    <tr>\n",
       "      <th>17780</th>\n",
       "      <td>(nan, 3.5520138618653214)</td>\n",
       "      <td>(nan, 3.2213008588845664)</td>\n",
       "      <td>(nan, 3.375612948210173)</td>\n",
       "      <td>(nan, 3.9961155060009506)</td>\n",
       "      <td>(-7.77, 3.255198316128628)</td>\n",
       "      <td>(nan, 4.077224586907583)</td>\n",
       "      <td>(6.7, 2.719243570790532)</td>\n",
       "      <td>(-6.75, 2.91029625945342)</td>\n",
       "      <td>(nan, 2.582857068175021)</td>\n",
       "      <td>(nan, 2.7846738681061534)</td>\n",
       "      <td>...</td>\n",
       "      <td>(nan, 2.4252233063973545)</td>\n",
       "      <td>(nan, 3.5143581950845144)</td>\n",
       "      <td>(nan, 3.180064430145627)</td>\n",
       "      <td>(nan, 3.58693724997245)</td>\n",
       "      <td>(nan, 2.0823087601041257)</td>\n",
       "      <td>(nan, 1.8979766132253868)</td>\n",
       "      <td>(nan, 4.037658670060064)</td>\n",
       "      <td>(nan, 3.32815742166544)</td>\n",
       "      <td>(nan, 3.652004980156181)</td>\n",
       "      <td>(nan, 2.9273287109013157)</td>\n",
       "    </tr>\n",
       "    <tr>\n",
       "      <th>17781</th>\n",
       "      <td>(nan, 4.009432928591691)</td>\n",
       "      <td>(nan, 2.492037184987731)</td>\n",
       "      <td>(nan, 2.844539699805461)</td>\n",
       "      <td>(nan, 3.0989940727953735)</td>\n",
       "      <td>(-9.71, 2.1458025650006625)</td>\n",
       "      <td>(nan, 3.0889205877775714)</td>\n",
       "      <td>(4.56, 2.11499639208768)</td>\n",
       "      <td>(-8.3, 3.250798957377448)</td>\n",
       "      <td>(nan, 2.0364101893261792)</td>\n",
       "      <td>(nan, 3.1252839371205274)</td>\n",
       "      <td>...</td>\n",
       "      <td>(nan, 2.3600124477777062)</td>\n",
       "      <td>(nan, 3.0840546029839064)</td>\n",
       "      <td>(nan, 3.13501880224413)</td>\n",
       "      <td>(nan, 3.0349885807524464)</td>\n",
       "      <td>(nan, 1.5470633646019638)</td>\n",
       "      <td>(nan, 1.712699247511586)</td>\n",
       "      <td>(nan, 4.1861919684252715)</td>\n",
       "      <td>(nan, 2.664418961391413)</td>\n",
       "      <td>(nan, 2.266821015191779)</td>\n",
       "      <td>(nan, 2.3854360485100097)</td>\n",
       "    </tr>\n",
       "    <tr>\n",
       "      <th>17782</th>\n",
       "      <td>(2.43, 4.299303574300912)</td>\n",
       "      <td>(2.67, 2.861839944072712)</td>\n",
       "      <td>(-3.98, 3.797062047481049)</td>\n",
       "      <td>(4.27, 4.14550211139265)</td>\n",
       "      <td>(-2.28, 2.789810057749202)</td>\n",
       "      <td>(7.33, 4.119793413199083)</td>\n",
       "      <td>(2.33, 2.891384683847282)</td>\n",
       "      <td>(4.56, 3.3206966954060415)</td>\n",
       "      <td>(6.75, 2.8882238524190766)</td>\n",
       "      <td>(4.61, 3.0079008319427487)</td>\n",
       "      <td>...</td>\n",
       "      <td>(nan, 2.8255947756128554)</td>\n",
       "      <td>(nan, 3.469772200739715)</td>\n",
       "      <td>(nan, 3.3776136807373724)</td>\n",
       "      <td>(nan, 2.97298726747088)</td>\n",
       "      <td>(nan, 2.682801450265748)</td>\n",
       "      <td>(nan, 2.1824643936699326)</td>\n",
       "      <td>(nan, 5.033770393619899)</td>\n",
       "      <td>(nan, 3.371551742672796)</td>\n",
       "      <td>(nan, 3.624126037095917)</td>\n",
       "      <td>(nan, 2.7403390266696697)</td>\n",
       "    </tr>\n",
       "  </tbody>\n",
       "</table>\n",
       "<p>17783 rows × 100 columns</p>\n",
       "</div>"
      ],
      "text/plain": [
       "                               1                           2    \\\n",
       "0      (-7.82, 3.9720815503913824)  (8.79, 2.8978549527682245)   \n",
       "1         (nan, 4.267731926087249)    (nan, 2.933152882309649)   \n",
       "2         (nan, 3.452439198492598)   (8.35, 3.136270383889947)   \n",
       "3         (8.5, 3.055762207857918)  (4.61, 1.7499081579531228)   \n",
       "4         (nan, 2.486414980833757)   (nan, 2.4291438183636394)   \n",
       "...                            ...                         ...   \n",
       "17778     (nan, 4.253231645713874)   (nan, 3.2868156024788107)   \n",
       "17779    (9.13, 3.534350694090974)  (-8.16, 3.227393342340868)   \n",
       "17780    (nan, 3.5520138618653214)   (nan, 3.2213008588845664)   \n",
       "17781     (nan, 4.009432928591691)    (nan, 2.492037184987731)   \n",
       "17782    (2.43, 4.299303574300912)   (2.67, 2.861839944072712)   \n",
       "\n",
       "                               3                            4    \\\n",
       "0       (-9.66, 3.345198587536779)   (-8.16, 3.590587629169965)   \n",
       "1         (nan, 3.560601881264577)     (nan, 3.943770416077405)   \n",
       "2         (nan, 3.678525715236008)    (nan, 3.7276655550307067)   \n",
       "3      (-4.17, 2.7704036468965434)  (-5.39, 2.7548906509323863)   \n",
       "4        (nan, 2.0406195669553724)     (nan, 2.471214880834291)   \n",
       "...                            ...                          ...   \n",
       "17778     (nan, 3.896236168198102)     (nan, 3.928994597330417)   \n",
       "17779   (8.59, 3.4657961468700287)    (9.08, 4.463647198033294)   \n",
       "17780     (nan, 3.375612948210173)    (nan, 3.9961155060009506)   \n",
       "17781     (nan, 2.844539699805461)    (nan, 3.0989940727953735)   \n",
       "17782   (-3.98, 3.797062047481049)     (4.27, 4.14550211139265)   \n",
       "\n",
       "                               5                            6    \\\n",
       "0      (-7.52, 3.0188449409167917)    (-8.5, 3.517031509543339)   \n",
       "1        (9.03, 2.973147530792298)   (9.27, 3.0843741060056233)   \n",
       "2         (1.8, 3.275476001382596)    (8.16, 4.003054748529952)   \n",
       "3       (1.36, 2.2050470829085254)    (1.6, 2.4840917673833904)   \n",
       "4       (8.59, 1.6633374880264116)   (-9.85, 1.714999564888002)   \n",
       "...                            ...                          ...   \n",
       "17778   (7.67, 2.5695515464779053)     (nan, 3.613275216294128)   \n",
       "17779   (0.87, 3.2897840473168256)  (-8.93, 3.8580349909441245)   \n",
       "17780   (-7.77, 3.255198316128628)     (nan, 4.077224586907583)   \n",
       "17781  (-9.71, 2.1458025650006625)    (nan, 3.0889205877775714)   \n",
       "17782   (-2.28, 2.789810057749202)    (7.33, 4.119793413199083)   \n",
       "\n",
       "                               7                           8    \\\n",
       "0       (-9.85, 2.310483483877972)   (4.17, 3.081748679125996)   \n",
       "1        (9.03, 2.590439159086898)   (9.27, 3.323204777100451)   \n",
       "2      (-2.82, 2.6316126149740984)  (6.21, 2.8819134161188593)   \n",
       "3        (7.04, 1.961874225738842)   (4.61, 2.505459117497918)   \n",
       "4       (7.72, 1.5609769453925144)    (8.79, 2.48655122847654)   \n",
       "...                            ...                         ...   \n",
       "17778   (1.02, 2.6541756459384542)  (-3.74, 3.814125780534466)   \n",
       "17779   (-3.5, 3.1222038449292286)  (5.78, 3.4689152546848785)   \n",
       "17780     (6.7, 2.719243570790532)   (-6.75, 2.91029625945342)   \n",
       "17781     (4.56, 2.11499639208768)   (-8.3, 3.250798957377448)   \n",
       "17782    (2.33, 2.891384683847282)  (4.56, 3.3206966954060415)   \n",
       "\n",
       "                               9                            10   ...  \\\n",
       "0      (-8.98, 2.6968006276678707)  (-4.76, 3.0093927738499913)  ...   \n",
       "1        (nan, 2.6347772138289365)     (nan, 2.959260301614482)  ...   \n",
       "2         (nan, 2.581905231419659)    (1.84, 2.999018676341429)  ...   \n",
       "3       (-0.44, 2.076600258371243)    (5.73, 2.428746792074193)  ...   \n",
       "4        (nan, 1.3970465344376084)    (nan, 1.5466770329089548)  ...   \n",
       "...                            ...                          ...  ...   \n",
       "17778    (nan, 2.7898593016177595)    (nan, 2.9889648079730864)  ...   \n",
       "17779  (-8.11, 2.7519461446381634)     (4.9, 2.725965601699293)  ...   \n",
       "17780     (nan, 2.582857068175021)    (nan, 2.7846738681061534)  ...   \n",
       "17781    (nan, 2.0364101893261792)    (nan, 3.1252839371205274)  ...   \n",
       "17782   (6.75, 2.8882238524190766)   (4.61, 3.0079008319427487)  ...   \n",
       "\n",
       "                              91                          92   \\\n",
       "0        (2.82, 2.53475698654882)   (nan, 3.7219607188192665)   \n",
       "1       (nan, 2.9085807416979805)   (nan, 3.5940298603179004)   \n",
       "2        (nan, 2.238884351075046)   (nan, 3.1236980668651384)   \n",
       "3      (5.19, 2.0692042671201065)   (5.58, 2.417904303220456)   \n",
       "4       (nan, 1.5764251737770583)    (nan, 2.213146174635104)   \n",
       "...                           ...                         ...   \n",
       "17778   (nan, 2.9198993803285815)    (nan, 3.371078988892632)   \n",
       "17779  (-1.17, 2.604338805203881)  (-5.73, 3.304119384171563)   \n",
       "17780   (nan, 2.4252233063973545)   (nan, 3.5143581950845144)   \n",
       "17781   (nan, 2.3600124477777062)   (nan, 3.0840546029839064)   \n",
       "17782   (nan, 2.8255947756128554)    (nan, 3.469772200739715)   \n",
       "\n",
       "                               93                          94   \\\n",
       "0         (nan, 3.521688261188994)   (nan, 3.5896631823887746)   \n",
       "1        (nan, 3.8501486418483784)   (9.08, 3.300192969169696)   \n",
       "2        (nan, 3.4489033739822195)   (0.53, 3.154429923721124)   \n",
       "3       (4.27, 2.7333386350528737)  (5.19, 2.3764305613658268)   \n",
       "4        (nan, 2.4814369478422003)    (nan, 2.416111041108622)   \n",
       "...                            ...                         ...   \n",
       "17778     (nan, 3.879600545548267)    (nan, 3.191165558835543)   \n",
       "17779  (-1.46, 3.2889675626185246)   (0.24, 3.337223944672344)   \n",
       "17780     (nan, 3.180064430145627)     (nan, 3.58693724997245)   \n",
       "17781      (nan, 3.13501880224413)   (nan, 3.0349885807524464)   \n",
       "17782    (nan, 3.3776136807373724)     (nan, 2.97298726747088)   \n",
       "\n",
       "                              95                          96   \\\n",
       "0       (nan, 1.9085887821997192)   (nan, 2.2385185540495796)   \n",
       "1       (nan, 1.9345375558643394)   (nan, 2.4263009237457167)   \n",
       "2       (nan, 2.2353705459306594)   (nan, 2.3758362649441027)   \n",
       "3       (5.73, 1.585325101809795)  (1.55, 2.0243497211574617)   \n",
       "4       (nan, 0.9644516206816417)  (2.33, 1.8930170713370138)   \n",
       "...                           ...                         ...   \n",
       "17778    (nan, 2.343131474065769)    (nan, 2.821718982454611)   \n",
       "17779  (9.22, 1.9239012411037413)  (-8.2, 2.6042700050369976)   \n",
       "17780   (nan, 2.0823087601041257)   (nan, 1.8979766132253868)   \n",
       "17781   (nan, 1.5470633646019638)    (nan, 1.712699247511586)   \n",
       "17782    (nan, 2.682801450265748)   (nan, 2.1824643936699326)   \n",
       "\n",
       "                              97                           98   \\\n",
       "0      (-5.63, 4.472758013364635)     (nan, 3.171716659117797)   \n",
       "1        (nan, 5.033129425223906)    (nan, 2.7845208867368485)   \n",
       "2          (nan, 4.6497978645517)    (nan, 3.0362265251052487)   \n",
       "3       (3.11, 4.075322119901159)   (6.55, 2.3769949033759654)   \n",
       "4        (nan, 3.028774740529995)    (nan, 1.8287723003422247)   \n",
       "...                           ...                          ...   \n",
       "17778    (nan, 5.263888429339908)    (nan, 3.2545961718247156)   \n",
       "17779  (-7.23, 4.634679422622741)  (-8.59, 3.6864999702707943)   \n",
       "17780    (nan, 4.037658670060064)      (nan, 3.32815742166544)   \n",
       "17781   (nan, 4.1861919684252715)     (nan, 2.664418961391413)   \n",
       "17782    (nan, 5.033770393619899)     (nan, 3.371551742672796)   \n",
       "\n",
       "                              99                          100  \n",
       "0        (nan, 3.106535414139134)    (nan, 2.850640216878193)  \n",
       "1       (nan, 2.9260971940300573)    (nan, 2.377421947782539)  \n",
       "2        (nan, 3.548009118287445)    (nan, 3.043892890646703)  \n",
       "3       (1.8, 2.4701556478454867)    (1.6, 2.293988422460752)  \n",
       "4       (nan, 1.6957745996799949)   (nan, 1.4527062426779815)  \n",
       "...                           ...                         ...  \n",
       "17778   (nan, 3.2349694015526995)    (nan, 2.546507312952199)  \n",
       "17779  (9.13, 3.7036245312554628)  (8.45, 2.6449928670518643)  \n",
       "17780    (nan, 3.652004980156181)   (nan, 2.9273287109013157)  \n",
       "17781    (nan, 2.266821015191779)   (nan, 2.3854360485100097)  \n",
       "17782    (nan, 3.624126037095917)   (nan, 2.7403390266696697)  \n",
       "\n",
       "[17783 rows x 100 columns]"
      ]
     },
     "execution_count": 480,
     "metadata": {},
     "output_type": "execute_result"
    }
   ],
   "source": [
    "comparison_data"
   ]
  },
  {
   "cell_type": "code",
   "execution_count": null,
   "metadata": {},
   "outputs": [],
   "source": []
  }
 ],
 "metadata": {
  "kernelspec": {
   "display_name": "Python 3",
   "language": "python",
   "name": "python3"
  },
  "language_info": {
   "codemirror_mode": {
    "name": "ipython",
    "version": 3
   },
   "file_extension": ".py",
   "mimetype": "text/x-python",
   "name": "python",
   "nbconvert_exporter": "python",
   "pygments_lexer": "ipython3",
   "version": "3.8.3"
  }
 },
 "nbformat": 4,
 "nbformat_minor": 4
}
